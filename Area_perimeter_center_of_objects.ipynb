{
  "nbformat": 4,
  "nbformat_minor": 0,
  "metadata": {
    "colab": {
      "name": "Area_perimeter_center_of_objects.ipynb",
      "provenance": [],
      "authorship_tag": "ABX9TyPbCQVQ6YjuTUAv6kGyZFnk",
      "include_colab_link": true
    },
    "kernelspec": {
      "name": "python3",
      "display_name": "Python 3"
    },
    "accelerator": "GPU"
  },
  "cells": [
    {
      "cell_type": "markdown",
      "metadata": {
        "id": "view-in-github",
        "colab_type": "text"
      },
      "source": [
        "<a href=\"https://colab.research.google.com/github/Prerna99-star/contour-object-detection/blob/master/Area_perimeter_center_of_objects.ipynb\" target=\"_parent\"><img src=\"https://colab.research.google.com/assets/colab-badge.svg\" alt=\"Open In Colab\"/></a>"
      ]
    },
    {
      "cell_type": "code",
      "metadata": {
        "id": "OGupGMN5eYoo",
        "colab_type": "code",
        "colab": {}
      },
      "source": [
        "import numpy as np\n",
        "import cv2"
      ],
      "execution_count": 0,
      "outputs": []
    },
    {
      "cell_type": "code",
      "metadata": {
        "id": "_aarURyMelsT",
        "colab_type": "code",
        "outputId": "40ee5c22-73e1-4d01-fdb5-3e23630e1867",
        "colab": {
          "base_uri": "https://localhost:8080/",
          "height": 777
        }
      },
      "source": [
        "img = cv2.imread('detect_blob.png', 1)\n",
        "gray = cv2.cvtColor(img, cv2.COLOR_RGB2GRAY)\n",
        "thresh = cv2.adaptiveThreshold(gray, 255, cv2.ADAPTIVE_THRESH_GAUSSIAN_C, cv2.THRESH_BINARY, 115, 1)\n",
        "from google.colab.patches import cv2_imshow \n",
        "cv2_imshow(thresh)"
      ],
      "execution_count": 2,
      "outputs": [
        {
          "output_type": "display_data",
          "data": {
            "image/png": "[encoded data removed]",
            "text/plain": [
              "<PIL.Image.Image image mode=L size=541x760 at 0x7F2C8BE7CD68>"
            ]
          },
          "metadata": {
            "tags": []
          }
        }
      ]
    },
    {
      "cell_type": "code",
      "metadata": {
        "id": "c7cJgeVifooS",
        "colab_type": "code",
        "colab": {}
      },
      "source": [
        "contours, hierarchy = cv2.findContours(thresh, cv2.RETR_TREE, cv2.CHAIN_APPROX_SIMPLE)"
      ],
      "execution_count": 0,
      "outputs": []
    },
    {
      "cell_type": "code",
      "metadata": {
        "id": "f-KtzdZ9gZ3B",
        "colab_type": "code",
        "outputId": "8449acad-996b-4914-8701-e70fa89da7c3",
        "colab": {
          "base_uri": "https://localhost:8080/",
          "height": 1000
        }
      },
      "source": [
        "img2 = img.copy()\n",
        "index = -1\n",
        "thickness = 4\n",
        "color = (255, 0, 255)\n",
        "\n",
        "objects = np.zeros([img.shape[0], img.shape[1], 3], 'uint8')\n",
        "for c in contours: \n",
        "  cv2.drawContours(objects, [c], -1, color, -1)\n",
        "\n",
        "  area = cv2.contourArea(c)\n",
        "  perimeter = cv2.arcLength(c, True)\n",
        "  \n",
        "  M = cv2.moments(c)\n",
        "  cx = int(M['m10']/M['m00'])\n",
        "  cy = int(M['m01']/M['m00'])\n",
        "  cv2.circle(objects, (cx, cy), 4, (0,0,255), -1)\n",
        "\n",
        "  print(\"Area: {}, perimeter:{}\".format(area, perimeter))\n",
        "\n",
        "from google.colab.patches import cv2_imshow \n",
        "cv2_imshow(objects)\n",
        "cv2.waitKey(0)\n",
        "cv2.destroyAllWindows()"
      ],
      "execution_count": 6,
      "outputs": [
        {
          "output_type": "stream",
          "text": [
            "Area: 86.5, perimeter:45.55634891986847\n",
            "Area: 959.5, perimeter:251.8406196832657\n",
            "Area: 13091.5, perimeter:754.0416301488876\n",
            "Area: 10069.5, perimeter:401.41421353816986\n",
            "Area: 7780.0, perimeter:329.22034430503845\n",
            "Area: 4160.0, perimeter:258.0\n",
            "Area: 1672.0, perimeter:160.48528122901917\n",
            "Area: 14515.0, perimeter:1225.768675327301\n",
            "Area: 6357.0, perimeter:446.9116872549057\n",
            "Area: 7718.0, perimeter:484.8284270763397\n",
            "Area: 4592.5, perimeter:502.0315263271332\n",
            "Area: 5014.0, perimeter:357.2792183160782\n",
            "Area: 5019.0, perimeter:444.3675308227539\n",
            "Area: 8829.0, perimeter:450.5929263830185\n",
            "Area: 108.0, perimeter:41.79898953437805\n",
            "Area: 551.5, perimeter:93.41421353816986\n",
            "Area: 2707.5, perimeter:194.75230765342712\n",
            "Area: 1644.5, perimeter:152.1248904466629\n",
            "Area: 767.0, perimeter:105.74011433124542\n",
            "Area: 3501.5, perimeter:251.0710676908493\n",
            "Area: 8556.0, perimeter:345.70562493801117\n",
            "Area: 8868.0, perimeter:378.8284270763397\n",
            "Area: 865.0, perimeter:185.4558435678482\n",
            "Area: 1482.0, perimeter:244.16652035713196\n",
            "Area: 747.0, perimeter:102.9116872549057\n",
            "Area: 1638.0, perimeter:152.36753034591675\n",
            "Area: 1.0, perimeter:4114.82842707634\n"
          ],
          "name": "stdout"
        },
        {
          "output_type": "display_data",
          "data": {
            "image/png": "[encoded data removed]",
            "text/plain": [
              "<PIL.Image.Image image mode=RGB size=541x760 at 0x7F2C8B28FBE0>"
            ]
          },
          "metadata": {
            "tags": []
          }
        }
      ]
    }
  ]
}